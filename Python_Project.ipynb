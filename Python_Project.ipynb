{
  "nbformat": 4,
  "nbformat_minor": 0,
  "metadata": {
    "colab": {
      "provenance": [],
      "authorship_tag": "ABX9TyNpbhuTuBuM8zPgsgdJsg8y",
      "include_colab_link": true
    },
    "kernelspec": {
      "name": "python3",
      "display_name": "Python 3"
    },
    "language_info": {
      "name": "python"
    }
  },
  "cells": [
    {
      "cell_type": "markdown",
      "metadata": {
        "id": "view-in-github",
        "colab_type": "text"
      },
      "source": [
        "<a href=\"https://colab.research.google.com/github/HarshiniMyana/Python_Project/blob/main/Python_Project.ipynb\" target=\"_parent\"><img src=\"https://colab.research.google.com/assets/colab-badge.svg\" alt=\"Open In Colab\"/></a>"
      ]
    },
    {
      "cell_type": "code",
      "execution_count": 3,
      "metadata": {
        "colab": {
          "base_uri": "https://localhost:8080/"
        },
        "id": "MqZ3bZoMl8L6",
        "outputId": "3734f4cf-e6d0-4898-aa27-7e1d4b6db6aa"
      },
      "outputs": [
        {
          "output_type": "stream",
          "name": "stdout",
          "text": [
            "What's your age? 10\n",
            "Please choose time unit (Months, Weeks, Days, Hours, Minutes, Seconds)\n",
            "Note: You can write the first letter or the full name of the time unit. m\n",
            "You lived for 120.0 Months.\n"
          ]
        }
      ],
      "source": [
        "#calculate_survialduration will take two parameters (age, unit) which calculates the duration in the specified unit\n",
        "def calculate_survivalduration(age, unit):\n",
        "  #Logic for calculating survival duration in 6 units\n",
        "  #we need to establish relation between units based on the age given in years\n",
        "  #months: there are 12 months in a year.\n",
        "  #formula: duration in months = age in years *12\n",
        "  #example: age = 25 years -> 25 * 12 = 300 months\n",
        "    if unit.lower() == 'months':\n",
        "        return age * 12\n",
        "  #Weeks: A year is approximately 52 weeks along\n",
        "  #formula: duration in weeks = age in years * 52\n",
        "  #example: age = 25 years -> 25 * 52 = 1300 weeks\n",
        "    elif unit.lower() == 'weeks':\n",
        "        return age * 52\n",
        "  #days: A year has 365 days ( excluding the leap year for simplicity)\n",
        "  #formula: duration in days = age in years * 365\n",
        "  #example: age = 25 years -> 25* 365 = 9125 days\n",
        "    elif unit.lower() == 'days':\n",
        "        return age * 365\n",
        "  #Hours: there are 24 hours in a day, thus 8760 hour in a year\n",
        "  #formula: duration in hours = age in years * 365 * 24\n",
        "  #example: age = 25 years -> 25 * 8760 = 219000 hours\n",
        "    elif unit.lower() == 'hours':\n",
        "        return age * 365 * 24\n",
        "  #minutes: there are 60 min in an hour, thus 525600 minutes in a year\n",
        "  #formula: duration in minutes = age in years * 365 * 24 * 60\n",
        "  #example: age = 25 years -> 25 * 525600 = 13140000 minutes\n",
        "    elif unit.lower() == 'minutes':\n",
        "        return age * 365 * 24 * 60\n",
        "  #seconds: there are 60 seconds in a minute, thus 31,536,000 seconds in a year\n",
        "  #formula: duration in seconds = age in years * 365 * 24 * 60 * 60\n",
        "  #example: age = 25 years -> 25 * 31536000 = 788400000 seconds\n",
        "    elif unit.lower() == 'seconds':\n",
        "        return age * 365 * 24 * 60 * 60\n",
        "    else:\n",
        "        raise ValueError(\"Invalid time unit. Please choose from the given units.\")\n",
        "\n",
        "def main(): # sets the age and time unit using the method and displays calculation\n",
        "    age = float(input(\"What's your age? \"))  # Convert input to float # represents age in individual in years, it can be a decimal number like 25.5\n",
        "    print(\"Please choose time unit (Months, Weeks, Days, Hours, Minutes, Seconds)\")\n",
        "    unit=input( \"Note: You can write the first letter or the full name of the time unit. \").strip().lower() #specifies the time unit according to the selection\n",
        "\n",
        "    if unit in ['m', 'months']:\n",
        "        unit = 'months'\n",
        "    elif unit in ['w', 'weeks']:\n",
        "        unit = 'weeks'\n",
        "    elif unit in ['d', 'days']:\n",
        "        unit = 'days'\n",
        "    elif unit in ['h', 'hours']:\n",
        "        unit = 'hours'\n",
        "    elif unit in ['min', 'minutes']:\n",
        "        unit = 'minutes'\n",
        "    elif unit in ['s', 'seconds']:\n",
        "        unit = 'seconds'\n",
        "    else:\n",
        "        print(\"Invalid time unit.\")\n",
        "        return  # Exit if the unit is invalid\n",
        "\n",
        "    duration = calculate_survivalduration(age, unit) #calculates the duration based on the age and selected unit.\n",
        "    print(f\"You lived for {duration} {unit.capitalize()}.\") #calculates the duration and prints the result\n",
        "\n",
        "if __name__ == \"__main__\": #promts the user for their age and desired time unit.\n",
        "    main()\n"
      ]
    }
  ]
}